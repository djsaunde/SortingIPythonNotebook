{
 "cells": [
  {
   "cell_type": "markdown",
   "metadata": {},
   "source": [
    "#### This notebook is dedicated to the implementation and analysis of sorting algorithms."
   ]
  },
  {
   "cell_type": "markdown",
   "metadata": {},
   "source": [
    "#### We'll begin by taking a look at the canonical sorting algorithm, MergeSort. \n",
    "\n",
    "On average, this algorithm runs in time O(nlog(n)). Why? Paraphrased from Wikipedia: Assume that the running time of the mergesort algorithm on a list of n elements is T(n). Then, the recurrence T(n) = 2T(n/2) + n follows from the definition of the algorithm, since we apply the algorithm to two lists half the size of the original list, and add the n steps required to merge the sorted lists. Then, via the master theorem, the above closed form follows. \n",
    "\n",
    "What about worst case running time? Again, from Wikipedia: the number of comparisons MergeSort makes is equal to or slightly smaller than (n ⌈lg n⌉ - 2⌈lg n⌉ + 1)"
   ]
  },
  {
   "cell_type": "code",
   "execution_count": 15,
   "metadata": {
    "collapsed": true
   },
   "outputs": [],
   "source": [
    "def merge(left, right):              # implementing the merge() helper function called by MergeSort\n",
    "    if not left:                     # if the left half of the array is empty, return the right half\n",
    "        return right\n",
    "    if not right:                    # likewise, if the right half of the array is empty, return the left half\n",
    "        return left\n",
    "    if left[0] < right[0]:           # otherwise, if the first element of the left array is less than the first element of the right\n",
    "        return [left[0]] + merge(left[1:], right)    # return this element and recursively call merge on the rest of the left array and the right array\n",
    "    return [right[0]] + merge(left, right[1:])       # if the converse is true, do the opposite\n",
    "        \n",
    "def mergeSort(array):                   # implementing the MergeSort algorithm\n",
    "    if len(array) <= 1:\n",
    "        return array\n",
    "    mid = len(array) / 2          # find the middle index of the passed in array\n",
    "    left = mergeSort(array[:mid])      # split it into two pieces\n",
    "    right = mergeSort(array[mid:])\n",
    "    return merge(left, right)          # call merge on the sorted left and right pieces of the passed in array"
   ]
  },
  {
   "cell_type": "code",
   "execution_count": 16,
   "metadata": {
    "collapsed": false
   },
   "outputs": [
    {
     "name": "stdout",
     "output_type": "stream",
     "text": [
      "[3, 4, 7, 7, 7, 8, 8, 11, 11, 11, 12, 13, 15, 15, 15, 17, 17, 18, 18, 19, 19, 20, 20, 21, 21, 22, 23, 23, 24, 25, 30, 30, 32, 33, 34, 35, 36, 36, 36, 36, 37, 37, 37, 38, 39, 40, 41, 41, 41, 41, 42, 42, 45, 46, 46, 48, 49, 49, 49, 51, 51, 54, 54, 56, 60, 60, 61, 61, 63, 64, 64, 67, 68, 69, 72, 73, 77, 78, 78, 79, 80, 82, 84, 85, 87, 89, 90, 90, 91, 92, 93, 94, 94, 95, 96, 97, 97, 98, 99, 99]\n"
     ]
    }
   ],
   "source": [
    "import random\n",
    "\n",
    "print mergeSort([random.choice(range(100)) for i in range(100)])"
   ]
  },
  {
   "cell_type": "code",
   "execution_count": null,
   "metadata": {
    "collapsed": true
   },
   "outputs": [],
   "source": []
  }
 ],
 "metadata": {
  "kernelspec": {
   "display_name": "Python 2",
   "language": "python",
   "name": "python2"
  },
  "language_info": {
   "codemirror_mode": {
    "name": "ipython",
    "version": 2
   },
   "file_extension": ".py",
   "mimetype": "text/x-python",
   "name": "python",
   "nbconvert_exporter": "python",
   "pygments_lexer": "ipython2",
   "version": "2.7.9"
  }
 },
 "nbformat": 4,
 "nbformat_minor": 0
}
